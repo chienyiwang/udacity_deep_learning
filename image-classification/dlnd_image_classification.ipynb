{
 "cells": [
  {
   "cell_type": "markdown",
   "metadata": {
    "collapsed": true
   },
   "source": [
    "# Image Classification\n",
    "In this project, you'll classify images from the [CIFAR-10 dataset](https://www.cs.toronto.edu/~kriz/cifar.html).  The dataset consists of airplanes, dogs, cats, and other objects. You'll preprocess the images, then train a convolutional neural network on all the samples. The images need to be normalized and the labels need to be one-hot encoded.  You'll get to apply what you learned and build a convolutional, max pooling, dropout, and fully connected layers.  At the end, you'll get to see your neural network's predictions on the sample images.\n",
    "## Get the Data\n",
    "Run the following cell to download the [CIFAR-10 dataset for python](https://www.cs.toronto.edu/~kriz/cifar-10-python.tar.gz)."
   ]
  },
  {
   "cell_type": "code",
   "execution_count": 2,
   "metadata": {
    "scrolled": true
   },
   "outputs": [
    {
     "name": "stderr",
     "output_type": "stream",
     "text": [
      "CIFAR-10 Dataset: 171MB [03:07, 909KB/s]                               \n"
     ]
    },
    {
     "name": "stdout",
     "output_type": "stream",
     "text": [
      "All files found!\n"
     ]
    }
   ],
   "source": [
    "\"\"\"\n",
    "DON'T MODIFY ANYTHING IN THIS CELL THAT IS BELOW THIS LINE\n",
    "\"\"\"\n",
    "from urllib.request import urlretrieve\n",
    "from os.path import isfile, isdir\n",
    "from tqdm import tqdm\n",
    "import problem_unittests as tests\n",
    "import tarfile\n",
    "\n",
    "cifar10_dataset_folder_path = 'cifar-10-batches-py'\n",
    "\n",
    "# Use Floyd's cifar-10 dataset if present\n",
    "floyd_cifar10_location = '/input/cifar-10/python.tar.gz'\n",
    "if isfile(floyd_cifar10_location):\n",
    "    tar_gz_path = floyd_cifar10_location\n",
    "else:\n",
    "    tar_gz_path = 'cifar-10-python.tar.gz'\n",
    "\n",
    "class DLProgress(tqdm):\n",
    "    last_block = 0\n",
    "\n",
    "    def hook(self, block_num=1, block_size=1, total_size=None):\n",
    "        self.total = total_size\n",
    "        self.update((block_num - self.last_block) * block_size)\n",
    "        self.last_block = block_num\n",
    "\n",
    "if not isfile(tar_gz_path):\n",
    "    with DLProgress(unit='B', unit_scale=True, miniters=1, desc='CIFAR-10 Dataset') as pbar:\n",
    "        urlretrieve(\n",
    "            'https://www.cs.toronto.edu/~kriz/cifar-10-python.tar.gz',\n",
    "            tar_gz_path,\n",
    "            pbar.hook)\n",
    "\n",
    "if not isdir(cifar10_dataset_folder_path):\n",
    "    with tarfile.open(tar_gz_path) as tar:\n",
    "        tar.extractall()\n",
    "        tar.close()\n",
    "\n",
    "\n",
    "tests.test_folder_path(cifar10_dataset_folder_path)"
   ]
  },
  {
   "cell_type": "markdown",
   "metadata": {},
   "source": [
    "## Explore the Data\n",
    "The dataset is broken into batches to prevent your machine from running out of memory.  The CIFAR-10 dataset consists of 5 batches, named `data_batch_1`, `data_batch_2`, etc.. Each batch contains the labels and images that are one of the following:\n",
    "* airplane\n",
    "* automobile\n",
    "* bird\n",
    "* cat\n",
    "* deer\n",
    "* dog\n",
    "* frog\n",
    "* horse\n",
    "* ship\n",
    "* truck\n",
    "\n",
    "Understanding a dataset is part of making predictions on the data.  Play around with the code cell below by changing the `batch_id` and `sample_id`. The `batch_id` is the id for a batch (1-5). The `sample_id` is the id for a image and label pair in the batch.\n",
    "\n",
    "Ask yourself \"What are all possible labels?\", \"What is the range of values for the image data?\", \"Are the labels in order or random?\".  Answers to questions like these will help you preprocess the data and end up with better predictions."
   ]
  },
  {
   "cell_type": "code",
   "execution_count": 3,
   "metadata": {},
   "outputs": [
    {
     "name": "stdout",
     "output_type": "stream",
     "text": [
      "\n",
      "Stats of batch 1:\n",
      "Samples: 10000\n",
      "Label Counts: {0: 1005, 1: 974, 2: 1032, 3: 1016, 4: 999, 5: 937, 6: 1030, 7: 1001, 8: 1025, 9: 981}\n",
      "First 20 Labels: [6, 9, 9, 4, 1, 1, 2, 7, 8, 3, 4, 7, 7, 2, 9, 9, 9, 3, 2, 6]\n",
      "\n",
      "Example of Image 5:\n",
      "Image - Min Value: 0 Max Value: 252\n",
      "Image - Shape: (32, 32, 3)\n",
      "Label - Label Id: 1 Name: automobile\n"
     ]
    },
    {
     "data": {
      "image/png": "[encoded data removed]",
      "text/plain": [
       "<matplotlib.figure.Figure at 0x7fd146287438>"
      ]
     },
     "metadata": {
      "image/png": {
       "height": 250,
       "width": 253
      }
     },
     "output_type": "display_data"
    }
   ],
   "source": [
    "%matplotlib inline\n",
    "%config InlineBackend.figure_format = 'retina'\n",
    "\n",
    "import helper\n",
    "import numpy as np\n",
    "\n",
    "# Explore the dataset\n",
    "batch_id = 1\n",
    "sample_id = 5\n",
    "helper.display_stats(cifar10_dataset_folder_path, batch_id, sample_id)"
   ]
  },
  {
   "cell_type": "markdown",
   "metadata": {},
   "source": [
    "## Implement Preprocess Functions\n",
    "### Normalize\n",
    "In the cell below, implement the `normalize` function to take in image data, `x`, and return it as a normalized Numpy array. The values should be in the range of 0 to 1, inclusive.  The return object should be the same shape as `x`."
   ]
  },
  {
   "cell_type": "code",
   "execution_count": 4,
   "metadata": {},
   "outputs": [
    {
     "name": "stdout",
     "output_type": "stream",
     "text": [
      "Tests Passed\n"
     ]
    }
   ],
   "source": [
    "def normalize(x):\n",
    "    \"\"\"\n",
    "    Normalize a list of sample image data in the range of 0 to 1\n",
    "    : x: List of image data.  The image shape is (32, 32, 3)\n",
    "    : return: Numpy array of normalize data\n",
    "    \"\"\"\n",
    "    return x / 255.0\n",
    "\n",
    "\n",
    "\"\"\"\n",
    "DON'T MODIFY ANYTHING IN THIS CELL THAT IS BELOW THIS LINE\n",
    "\"\"\"\n",
    "tests.test_normalize(normalize)"
   ]
  },
  {
   "cell_type": "markdown",
   "metadata": {},
   "source": [
    "### One-hot encode\n",
    "Just like the previous code cell, you'll be implementing a function for preprocessing.  This time, you'll implement the `one_hot_encode` function. The input, `x`, are a list of labels.  Implement the function to return the list of labels as One-Hot encoded Numpy array.  The possible values for labels are 0 to 9. The one-hot encoding function should return the same encoding for each value between each call to `one_hot_encode`.  Make sure to save the map of encodings outside the function.\n",
    "\n",
    "Hint: Don't reinvent the wheel."
   ]
  },
  {
   "cell_type": "code",
   "execution_count": 5,
   "metadata": {},
   "outputs": [
    {
     "name": "stdout",
     "output_type": "stream",
     "text": [
      "Tests Passed\n"
     ]
    }
   ],
   "source": [
    "def one_hot_encode(x):\n",
    "    \"\"\"\n",
    "    One hot encode a list of sample labels. Return a one-hot encoded vector for each label.\n",
    "    : x: List of sample Labels\n",
    "    : return: Numpy array of one-hot encoded labels\n",
    "    \"\"\"\n",
    "    from sklearn import preprocessing\n",
    "    lb = preprocessing.LabelBinarizer()\n",
    "    lb.fit(range(10))\n",
    "    y = lb.transform(x)\n",
    "    \n",
    "    return y \n",
    "\n",
    "\n",
    "\"\"\"\n",
    "DON'T MODIFY ANYTHING IN THIS CELL THAT IS BELOW THIS LINE\n",
    "\"\"\"\n",
    "tests.test_one_hot_encode(one_hot_encode)"
   ]
  },
  {
   "cell_type": "markdown",
   "metadata": {},
   "source": [
    "### Randomize Data\n",
    "As you saw from exploring the data above, the order of the samples are randomized.  It doesn't hurt to randomize it again, but you don't need to for this dataset."
   ]
  },
  {
   "cell_type": "markdown",
   "metadata": {},
   "source": [
    "## Preprocess all the data and save it\n",
    "Running the code cell below will preprocess all the CIFAR-10 data and save it to file. The code below also uses 10% of the training data for validation."
   ]
  },
  {
   "cell_type": "code",
   "execution_count": 6,
   "metadata": {},
   "outputs": [],
   "source": [
    "\"\"\"\n",
    "DON'T MODIFY ANYTHING IN THIS CELL\n",
    "\"\"\"\n",
    "# Preprocess Training, Validation, and Testing Data\n",
    "helper.preprocess_and_save_data(cifar10_dataset_folder_path, normalize, one_hot_encode)"
   ]
  },
  {
   "cell_type": "markdown",
   "metadata": {},
   "source": [
    "# Check Point\n",
    "This is your first checkpoint.  If you ever decide to come back to this notebook or have to restart the notebook, you can start from here.  The preprocessed data has been saved to disk."
   ]
  },
  {
   "cell_type": "code",
   "execution_count": 7,
   "metadata": {
    "collapsed": true
   },
   "outputs": [],
   "source": [
    "\"\"\"\n",
    "DON'T MODIFY ANYTHING IN THIS CELL\n",
    "\"\"\"\n",
    "import pickle\n",
    "import problem_unittests as tests\n",
    "import helper\n",
    "\n",
    "# Load the Preprocessed Validation data\n",
    "valid_features, valid_labels = pickle.load(open('preprocess_validation.p', mode='rb'))"
   ]
  },
  {
   "cell_type": "markdown",
   "metadata": {},
   "source": [
    "## Build the network\n",
    "For the neural network, you'll build each layer into a function.  Most of the code you've seen has been outside of functions. To test your code more thoroughly, we require that you put each layer in a function.  This allows us to give you better feedback and test for simple mistakes using our unittests before you submit your project.\n",
    "\n",
    ">**Note:** If you're finding it hard to dedicate enough time for this course each week, we've provided a small shortcut to this part of the project. In the next couple of problems, you'll have the option to use classes from the [TensorFlow Layers](https://www.tensorflow.org/api_docs/python/tf/layers) or [TensorFlow Layers (contrib)](https://www.tensorflow.org/api_guides/python/contrib.layers) packages to build each layer, except the layers you build in the \"Convolutional and Max Pooling Layer\" section.  TF Layers is similar to Keras's and TFLearn's abstraction to layers, so it's easy to pickup.\n",
    "\n",
    ">However, if you would like to get the most out of this course, try to solve all the problems _without_ using anything from the TF Layers packages. You **can** still use classes from other packages that happen to have the same name as ones you find in TF Layers! For example, instead of using the TF Layers version of the `conv2d` class, [tf.layers.conv2d](https://www.tensorflow.org/api_docs/python/tf/layers/conv2d), you would want to use the TF Neural Network version of `conv2d`, [tf.nn.conv2d](https://www.tensorflow.org/api_docs/python/tf/nn/conv2d). \n",
    "\n",
    "Let's begin!\n",
    "\n",
    "### Input\n",
    "The neural network needs to read the image data, one-hot encoded labels, and dropout keep probability. Implement the following functions\n",
    "* Implement `neural_net_image_input`\n",
    " * Return a [TF Placeholder](https://www.tensorflow.org/api_docs/python/tf/placeholder)\n",
    " * Set the shape using `image_shape` with batch size set to `None`.\n",
    " * Name the TensorFlow placeholder \"x\" using the TensorFlow `name` parameter in the [TF Placeholder](https://www.tensorflow.org/api_docs/python/tf/placeholder).\n",
    "* Implement `neural_net_label_input`\n",
    " * Return a [TF Placeholder](https://www.tensorflow.org/api_docs/python/tf/placeholder)\n",
    " * Set the shape using `n_classes` with batch size set to `None`.\n",
    " * Name the TensorFlow placeholder \"y\" using the TensorFlow `name` parameter in the [TF Placeholder](https://www.tensorflow.org/api_docs/python/tf/placeholder).\n",
    "* Implement `neural_net_keep_prob_input`\n",
    " * Return a [TF Placeholder](https://www.tensorflow.org/api_docs/python/tf/placeholder) for dropout keep probability.\n",
    " * Name the TensorFlow placeholder \"keep_prob\" using the TensorFlow `name` parameter in the [TF Placeholder](https://www.tensorflow.org/api_docs/python/tf/placeholder).\n",
    "\n",
    "These names will be used at the end of the project to load your saved model.\n",
    "\n",
    "Note: `None` for shapes in TensorFlow allow for a dynamic size."
   ]
  },
  {
   "cell_type": "code",
   "execution_count": 8,
   "metadata": {},
   "outputs": [
    {
     "name": "stdout",
     "output_type": "stream",
     "text": [
      "Image Input Tests Passed.\n",
      "Label Input Tests Passed.\n",
      "Keep Prob Tests Passed.\n"
     ]
    }
   ],
   "source": [
    "import tensorflow as tf\n",
    "\n",
    "def neural_net_image_input(image_shape):\n",
    "    \"\"\"\n",
    "    Return a Tensor for a batch of image input\n",
    "    : image_shape: Shape of the images\n",
    "    : return: Tensor for image input.\n",
    "    \"\"\"\n",
    "    return tf.placeholder(tf.float32, [None, image_shape[0], image_shape[1], image_shape[2]], 'x')\n",
    "    \n",
    "\n",
    "\n",
    "def neural_net_label_input(n_classes):\n",
    "    \"\"\"\n",
    "    Return a Tensor for a batch of label input\n",
    "    : n_classes: Number of classes\n",
    "    : return: Tensor for label input.\n",
    "    \"\"\"\n",
    "    return tf.placeholder(tf.float32, [None, n_classes], 'y')\n",
    "\n",
    "\n",
    "def neural_net_keep_prob_input():\n",
    "    \"\"\"\n",
    "    Return a Tensor for keep probability\n",
    "    : return: Tensor for keep probability.\n",
    "    \"\"\"\n",
    "    return tf.placeholder(tf.float32, None, 'keep_prob')\n",
    "\n",
    "\n",
    "\"\"\"\n",
    "DON'T MODIFY ANYTHING IN THIS CELL THAT IS BELOW THIS LINE\n",
    "\"\"\"\n",
    "tf.reset_default_graph()\n",
    "tests.test_nn_image_inputs(neural_net_image_input)\n",
    "tests.test_nn_label_inputs(neural_net_label_input)\n",
    "tests.test_nn_keep_prob_inputs(neural_net_keep_prob_input)"
   ]
  },
  {
   "cell_type": "markdown",
   "metadata": {},
   "source": [
    "### Convolution and Max Pooling Layer\n",
    "Convolution layers have a lot of success with images. For this code cell, you should implement the function `conv2d_maxpool` to apply convolution then max pooling:\n",
    "* Create the weight and bias using `conv_ksize`, `conv_num_outputs` and the shape of `x_tensor`.\n",
    "* Apply a convolution to `x_tensor` using weight and `conv_strides`.\n",
    " * We recommend you use same padding, but you're welcome to use any padding.\n",
    "* Add bias\n",
    "* Add a nonlinear activation to the convolution.\n",
    "* Apply Max Pooling using `pool_ksize` and `pool_strides`.\n",
    " * We recommend you use same padding, but you're welcome to use any padding.\n",
    "\n",
    "**Note:** You **can't** use [TensorFlow Layers](https://www.tensorflow.org/api_docs/python/tf/layers) or [TensorFlow Layers (contrib)](https://www.tensorflow.org/api_guides/python/contrib.layers) for **this** layer, but you can still use TensorFlow's [Neural Network](https://www.tensorflow.org/api_docs/python/tf/nn) package. You may still use the shortcut option for all the **other** layers."
   ]
  },
  {
   "cell_type": "code",
   "execution_count": 9,
   "metadata": {},
   "outputs": [
    {
     "name": "stdout",
     "output_type": "stream",
     "text": [
      "Tests Passed\n"
     ]
    }
   ],
   "source": [
    "def conv2d_maxpool(x_tensor, conv_num_outputs, conv_ksize, conv_strides, pool_ksize, pool_strides):\n",
    "    \"\"\"\n",
    "    Apply convolution then max pooling to x_tensor\n",
    "    :param x_tensor: TensorFlow Tensor\n",
    "    :param conv_num_outputs: Number of outputs for the convolutional layer\n",
    "    :param conv_ksize: kernal size 2-D Tuple for the convolutional layer\n",
    "    :param conv_strides: Stride 2-D Tuple for convolution\n",
    "    :param pool_ksize: kernal size 2-D Tuple for pool\n",
    "    :param pool_strides: Stride 2-D Tuple for pool\n",
    "    : return: A tensor that represents convolution and max pooling of x_tensor\n",
    "    \"\"\"\n",
    "    weight = tf.Variable(tf.random_normal([*conv_ksize, x_tensor.get_shape().as_list()[-1], conv_num_outputs], mean = 0, stddev = 0.1))\n",
    "    bias = tf.Variable(tf.random_normal([conv_num_outputs], mean = 0, stddev = 0.1))\n",
    "    output = tf.nn.conv2d(x_tensor, weight, strides=[1, *conv_strides, 1], padding='SAME')\n",
    "    output = tf.nn.bias_add(output, bias)\n",
    "    output = tf.nn.relu(output)\n",
    "    output = tf.nn.max_pool(output, ksize=[1, *pool_ksize, 1], \n",
    "                             strides=[1, *pool_strides, 1], padding='SAME')\n",
    "    return output\n",
    "\n",
    "\n",
    "\"\"\"\n",
    "DON'T MODIFY ANYTHING IN THIS CELL THAT IS BELOW THIS LINE\n",
    "\"\"\"\n",
    "tests.test_con_pool(conv2d_maxpool)"
   ]
  },
  {
   "cell_type": "markdown",
   "metadata": {},
   "source": [
    "Note: stddev=0.1 in the initialization is important"
   ]
  },
  {
   "cell_type": "markdown",
   "metadata": {},
   "source": [
    "### Flatten Layer\n",
    "Implement the `flatten` function to change the dimension of `x_tensor` from a 4-D tensor to a 2-D tensor.  The output should be the shape (*Batch Size*, *Flattened Image Size*). Shortcut option: you can use classes from the [TensorFlow Layers](https://www.tensorflow.org/api_docs/python/tf/layers) or [TensorFlow Layers (contrib)](https://www.tensorflow.org/api_guides/python/contrib.layers) packages for this layer. For more of a challenge, only use other TensorFlow packages."
   ]
  },
  {
   "cell_type": "code",
   "execution_count": 10,
   "metadata": {},
   "outputs": [
    {
     "name": "stdout",
     "output_type": "stream",
     "text": [
      "Tests Passed\n"
     ]
    }
   ],
   "source": [
    "def flatten(x_tensor):\n",
    "    \"\"\"\n",
    "    Flatten x_tensor to (Batch Size, Flattened Image Size)\n",
    "    : x_tensor: A tensor of size (Batch Size, ...), where ... are the image dimensions.\n",
    "    : return: A tensor of size (Batch Size, Flattened Image Size).\n",
    "    \"\"\"\n",
    "    shape = x_tensor.get_shape().as_list()\n",
    "    flatten_shape = np.prod(shape[1:])\n",
    "    output = tf.reshape(x_tensor, [-1, flatten_shape])\n",
    "    return output\n",
    "\n",
    "\n",
    "\"\"\"\n",
    "DON'T MODIFY ANYTHING IN THIS CELL THAT IS BELOW THIS LINE\n",
    "\"\"\"\n",
    "tests.test_flatten(flatten)"
   ]
  },
  {
   "cell_type": "markdown",
   "metadata": {},
   "source": [
    "### Fully-Connected Layer\n",
    "Implement the `fully_conn` function to apply a fully connected layer to `x_tensor` with the shape (*Batch Size*, *num_outputs*). Shortcut option: you can use classes from the [TensorFlow Layers](https://www.tensorflow.org/api_docs/python/tf/layers) or [TensorFlow Layers (contrib)](https://www.tensorflow.org/api_guides/python/contrib.layers) packages for this layer. For more of a challenge, only use other TensorFlow packages."
   ]
  },
  {
   "cell_type": "code",
   "execution_count": 11,
   "metadata": {},
   "outputs": [
    {
     "name": "stdout",
     "output_type": "stream",
     "text": [
      "Tests Passed\n"
     ]
    }
   ],
   "source": [
    "def fully_conn(x_tensor, num_outputs):\n",
    "    \"\"\"\n",
    "    Apply a fully connected layer to x_tensor using weight and bias\n",
    "    : x_tensor: A 2-D tensor where the first dimension is batch size.\n",
    "    : num_outputs: The number of output that the new tensor should be.\n",
    "    : return: A 2-D tensor where the second dimension is num_outputs.\n",
    "    \"\"\"\n",
    "    weight = tf.Variable(tf.random_normal([x_tensor.get_shape().as_list()[-1], num_outputs], mean = 0, stddev = 0.1))\n",
    "    bias = tf.Variable(tf.random_normal([num_outputs] ,mean = 0, stddev = 0.1))\n",
    "    output = tf.add(tf.matmul(x_tensor, weight), bias)\n",
    "    output = tf.nn.relu(output)\n",
    "    return output\n",
    "\n",
    "\n",
    "\"\"\"\n",
    "DON'T MODIFY ANYTHING IN THIS CELL THAT IS BELOW THIS LINE\n",
    "\"\"\"\n",
    "tests.test_fully_conn(fully_conn)"
   ]
  },
  {
   "cell_type": "markdown",
   "metadata": {},
   "source": [
    "### Output Layer\n",
    "Implement the `output` function to apply a fully connected layer to `x_tensor` with the shape (*Batch Size*, *num_outputs*). Shortcut option: you can use classes from the [TensorFlow Layers](https://www.tensorflow.org/api_docs/python/tf/layers) or [TensorFlow Layers (contrib)](https://www.tensorflow.org/api_guides/python/contrib.layers) packages for this layer. For more of a challenge, only use other TensorFlow packages.\n",
    "\n",
    "**Note:** Activation, softmax, or cross entropy should **not** be applied to this."
   ]
  },
  {
   "cell_type": "code",
   "execution_count": 12,
   "metadata": {},
   "outputs": [
    {
     "name": "stdout",
     "output_type": "stream",
     "text": [
      "Tests Passed\n"
     ]
    }
   ],
   "source": [
    "def output(x_tensor, num_outputs):\n",
    "    \"\"\"\n",
    "    Apply a output layer to x_tensor using weight and bias\n",
    "    : x_tensor: A 2-D tensor where the first dimension is batch size.\n",
    "    : num_outputs: The number of output that the new tensor should be.\n",
    "    : return: A 2-D tensor where the second dimension is num_outputs.\n",
    "    \"\"\"\n",
    "    weight = tf.Variable(tf.random_normal([x_tensor.get_shape().as_list()[-1], num_outputs]))\n",
    "    bias = tf.Variable(tf.random_normal([num_outputs]))\n",
    "    output = tf.add(tf.matmul(x_tensor, weight), bias)\n",
    "    \n",
    "    return output\n",
    "\n",
    "\n",
    "\"\"\"\n",
    "DON'T MODIFY ANYTHING IN THIS CELL THAT IS BELOW THIS LINE\n",
    "\"\"\"\n",
    "tests.test_output(output)"
   ]
  },
  {
   "cell_type": "markdown",
   "metadata": {},
   "source": [
    "### Create Convolutional Model\n",
    "Implement the function `conv_net` to create a convolutional neural network model. The function takes in a batch of images, `x`, and outputs logits.  Use the layers you created above to create this model:\n",
    "\n",
    "* Apply 1, 2, or 3 Convolution and Max Pool layers\n",
    "* Apply a Flatten Layer\n",
    "* Apply 1, 2, or 3 Fully Connected Layers\n",
    "* Apply an Output Layer\n",
    "* Return the output\n",
    "* Apply [TensorFlow's Dropout](https://www.tensorflow.org/api_docs/python/tf/nn/dropout) to one or more layers in the model using `keep_prob`. "
   ]
  },
  {
   "cell_type": "code",
   "execution_count": 37,
   "metadata": {},
   "outputs": [
    {
     "name": "stdout",
     "output_type": "stream",
     "text": [
      "Neural Network Built!\n"
     ]
    }
   ],
   "source": [
    "def conv_net(x, keep_prob):\n",
    "    \"\"\"\n",
    "    Create a convolutional neural network model\n",
    "    : x: Placeholder tensor that holds image data.\n",
    "    : keep_prob: Placeholder tensor that hold dropout keep probability.\n",
    "    : return: Tensor that represents logits\n",
    "    \"\"\"\n",
    "    # TODO: Apply 1, 2, or 3 Convolution and Max Pool layers\n",
    "    #    Play around with different number of outputs, kernel size and stride\n",
    "    # Function Definition from Above:\n",
    "    #    conv2d_maxpool(x_tensor, conv_num_outputs, conv_ksize, conv_strides, pool_ksize, pool_strides)\n",
    "    conv_pool_1 = conv2d_maxpool(x, 64, (3, 3), (1, 1), (2, 2), (2, 2))\n",
    "    conv_pool_2 = conv2d_maxpool(conv_pool_1, 128, (3, 3), (1, 1), (2, 2), (2, 2))\n",
    "    conv_pool_3 = conv2d_maxpool(conv_pool_2, 256, (3, 3), (1, 1), (2, 2), (2, 2))\n",
    "\n",
    "    # TODO: Apply a Flatten Layer\n",
    "    # Function Definition from Above:\n",
    "    #   flatten(x_tensor)\n",
    "    flat = flatten(conv_pool_3)\n",
    "    \n",
    "    # TODO: Apply 1, 2, or 3 Fully Connected Layers\n",
    "    #    Play around with different number of outputs\n",
    "    # Function Definition from Above:\n",
    "    #   fully_conn(x_tensor, num_outputs)\n",
    "    fc1 = fully_conn(flat, 512)\n",
    "    fc1 = tf.nn.dropout(fc1, keep_prob)\n",
    "#     fc2 = fully_conn(fc1, 512)\n",
    "#     fc2 = tf.nn.dropout(fc2, keep_prob)\n",
    "    \n",
    "    # TODO: Apply an Output Layer\n",
    "    #    Set this to the number of classes\n",
    "    # Function Definition from Above:\n",
    "    #   output(x_tensor, num_outputs)\n",
    "    out = output(fc1, 10)\n",
    "    \n",
    "    # TODO: return output\n",
    "    return out\n",
    "\n",
    "\n",
    "\"\"\"\n",
    "DON'T MODIFY ANYTHING IN THIS CELL THAT IS BELOW THIS LINE\n",
    "\"\"\"\n",
    "\n",
    "##############################\n",
    "## Build the Neural Network ##\n",
    "##############################\n",
    "\n",
    "# Remove previous weights, bias, inputs, etc..\n",
    "tf.reset_default_graph()\n",
    "\n",
    "# Inputs\n",
    "x = neural_net_image_input((32, 32, 3))\n",
    "y = neural_net_label_input(10)\n",
    "keep_prob = neural_net_keep_prob_input()\n",
    "\n",
    "# Model\n",
    "logits = conv_net(x, keep_prob)\n",
    "\n",
    "# Name logits Tensor, so that is can be loaded from disk after training\n",
    "logits = tf.identity(logits, name='logits')\n",
    "\n",
    "# Loss and Optimizer\n",
    "cost = tf.reduce_mean(tf.nn.softmax_cross_entropy_with_logits(logits=logits, labels=y))\n",
    "optimizer = tf.train.AdamOptimizer().minimize(cost)\n",
    "\n",
    "# Accuracy\n",
    "correct_pred = tf.equal(tf.argmax(logits, 1), tf.argmax(y, 1))\n",
    "accuracy = tf.reduce_mean(tf.cast(correct_pred, tf.float32), name='accuracy')\n",
    "\n",
    "tests.test_conv_net(conv_net)"
   ]
  },
  {
   "cell_type": "markdown",
   "metadata": {},
   "source": [
    "## Train the Neural Network\n",
    "### Single Optimization\n",
    "Implement the function `train_neural_network` to do a single optimization.  The optimization should use `optimizer` to optimize in `session` with a `feed_dict` of the following:\n",
    "* `x` for image input\n",
    "* `y` for labels\n",
    "* `keep_prob` for keep probability for dropout\n",
    "\n",
    "This function will be called for each batch, so `tf.global_variables_initializer()` has already been called.\n",
    "\n",
    "Note: Nothing needs to be returned. This function is only optimizing the neural network."
   ]
  },
  {
   "cell_type": "code",
   "execution_count": 38,
   "metadata": {},
   "outputs": [
    {
     "name": "stdout",
     "output_type": "stream",
     "text": [
      "Tests Passed\n"
     ]
    }
   ],
   "source": [
    "def train_neural_network(session, optimizer, keep_probability, feature_batch, label_batch):\n",
    "    \"\"\"\n",
    "    Optimize the session on a batch of images and labels\n",
    "    : session: Current TensorFlow session\n",
    "    : optimizer: TensorFlow optimizer function\n",
    "    : keep_probability: keep probability\n",
    "    : feature_batch: Batch of Numpy image data\n",
    "    : label_batch: Batch of Numpy label data\n",
    "    \"\"\"\n",
    "    # TODO: Implement Function\n",
    "    session.run(optimizer, feed_dict={x: feature_batch, y: label_batch, keep_prob: keep_probability})\n",
    "\n",
    "\n",
    "\n",
    "\"\"\"\n",
    "DON'T MODIFY ANYTHING IN THIS CELL THAT IS BELOW THIS LINE\n",
    "\"\"\"\n",
    "tests.test_train_nn(train_neural_network)"
   ]
  },
  {
   "cell_type": "markdown",
   "metadata": {},
   "source": [
    "### Show Stats\n",
    "Implement the function `print_stats` to print loss and validation accuracy.  Use the global variables `valid_features` and `valid_labels` to calculate validation accuracy.  Use a keep probability of `1.0` to calculate the loss and validation accuracy."
   ]
  },
  {
   "cell_type": "code",
   "execution_count": 39,
   "metadata": {},
   "outputs": [],
   "source": [
    "def print_stats(session, feature_batch, label_batch, cost, accuracy):\n",
    "    \"\"\"\n",
    "    Print information about loss and validation accuracy\n",
    "    : session: Current TensorFlow session\n",
    "    : feature_batch: Batch of Numpy image data\n",
    "    : label_batch: Batch of Numpy label data\n",
    "    : cost: TensorFlow cost function\n",
    "    : accuracy: TensorFlow accuracy function\n",
    "    \"\"\"\n",
    "    loss = session.run(cost, feed_dict={x: feature_batch, y: label_batch, keep_prob: 1.0})\n",
    "    acc = session.run(accuracy, feed_dict={x: valid_features, y: valid_labels, keep_prob: 1.0})\n",
    "    print ('Loss: {}, Accracy: {}'.format(loss, acc))\n",
    "    "
   ]
  },
  {
   "cell_type": "markdown",
   "metadata": {},
   "source": [
    "### Hyperparameters\n",
    "Tune the following parameters:\n",
    "* Set `epochs` to the number of iterations until the network stops learning or start overfitting\n",
    "* Set `batch_size` to the highest number that your machine has memory for.  Most people set them to common sizes of memory:\n",
    " * 64\n",
    " * 128\n",
    " * 256\n",
    " * ...\n",
    "* Set `keep_probability` to the probability of keeping a node using dropout"
   ]
  },
  {
   "cell_type": "code",
   "execution_count": 40,
   "metadata": {
    "collapsed": true
   },
   "outputs": [],
   "source": [
    "# TODO: Tune Parameters\n",
    "epochs = 60\n",
    "batch_size = 128\n",
    "keep_probability = 0.5"
   ]
  },
  {
   "cell_type": "markdown",
   "metadata": {},
   "source": [
    "### Train on a Single CIFAR-10 Batch\n",
    "Instead of training the neural network on all the CIFAR-10 batches of data, let's use a single batch. This should save time while you iterate on the model to get a better accuracy.  Once the final validation accuracy is 50% or greater, run the model on all the data in the next section."
   ]
  },
  {
   "cell_type": "code",
   "execution_count": 41,
   "metadata": {
    "scrolled": true
   },
   "outputs": [
    {
     "name": "stdout",
     "output_type": "stream",
     "text": [
      "Checking the Training on a Single Batch...\n",
      "Epoch  1, CIFAR-10 Batch 1:  Loss: 2.3694417476654053, Accracy: 0.22020000219345093\n",
      "Epoch  2, CIFAR-10 Batch 1:  Loss: 2.0977072715759277, Accracy: 0.27320000529289246\n",
      "Epoch  3, CIFAR-10 Batch 1:  Loss: 1.9257949590682983, Accracy: 0.3294000029563904\n",
      "Epoch  4, CIFAR-10 Batch 1:  Loss: 1.7486079931259155, Accracy: 0.34779998660087585\n",
      "Epoch  5, CIFAR-10 Batch 1:  Loss: 1.6502777338027954, Accracy: 0.36340001225471497\n",
      "Epoch  6, CIFAR-10 Batch 1:  Loss: 1.475156545639038, Accracy: 0.3919999897480011\n",
      "Epoch  7, CIFAR-10 Batch 1:  Loss: 1.4571967124938965, Accracy: 0.39079999923706055\n",
      "Epoch  8, CIFAR-10 Batch 1:  Loss: 1.3016678094863892, Accracy: 0.4108000099658966\n",
      "Epoch  9, CIFAR-10 Batch 1:  Loss: 1.3463236093521118, Accracy: 0.43619999289512634\n",
      "Epoch 10, CIFAR-10 Batch 1:  Loss: 1.2405800819396973, Accracy: 0.41920000314712524\n",
      "Epoch 11, CIFAR-10 Batch 1:  Loss: 1.1610004901885986, Accracy: 0.46239998936653137\n",
      "Epoch 12, CIFAR-10 Batch 1:  Loss: 1.0901482105255127, Accracy: 0.45339998602867126\n",
      "Epoch 13, CIFAR-10 Batch 1:  Loss: 0.9741977453231812, Accracy: 0.4724000096321106\n",
      "Epoch 14, CIFAR-10 Batch 1:  Loss: 0.9250502586364746, Accracy: 0.4805999994277954\n",
      "Epoch 15, CIFAR-10 Batch 1:  Loss: 0.9397486448287964, Accracy: 0.483599990606308\n",
      "Epoch 16, CIFAR-10 Batch 1:  Loss: 0.8686963319778442, Accracy: 0.4912000000476837\n",
      "Epoch 17, CIFAR-10 Batch 1:  Loss: 0.7749828696250916, Accracy: 0.49480000138282776\n",
      "Epoch 18, CIFAR-10 Batch 1:  Loss: 0.6751454472541809, Accracy: 0.5040000081062317\n",
      "Epoch 19, CIFAR-10 Batch 1:  Loss: 0.5799857974052429, Accracy: 0.5067999958992004\n",
      "Epoch 20, CIFAR-10 Batch 1:  Loss: 0.5549761056900024, Accracy: 0.5231999754905701\n",
      "Epoch 21, CIFAR-10 Batch 1:  Loss: 0.5559379458427429, Accracy: 0.5113999843597412\n",
      "Epoch 22, CIFAR-10 Batch 1:  Loss: 0.4144291281700134, Accracy: 0.5224000215530396\n",
      "Epoch 23, CIFAR-10 Batch 1:  Loss: 0.36895886063575745, Accracy: 0.525600016117096\n",
      "Epoch 24, CIFAR-10 Batch 1:  Loss: 0.37212514877319336, Accracy: 0.5253999829292297\n",
      "Epoch 25, CIFAR-10 Batch 1:  Loss: 0.3748106360435486, Accracy: 0.5325999855995178\n",
      "Epoch 26, CIFAR-10 Batch 1:  Loss: 0.2867870330810547, Accracy: 0.5419999957084656\n",
      "Epoch 27, CIFAR-10 Batch 1:  Loss: 0.2952900826931, Accracy: 0.5329999923706055\n",
      "Epoch 28, CIFAR-10 Batch 1:  Loss: 0.25471457839012146, Accracy: 0.5432000160217285\n",
      "Epoch 29, CIFAR-10 Batch 1:  Loss: 0.19780045747756958, Accracy: 0.5361999869346619\n",
      "Epoch 30, CIFAR-10 Batch 1:  Loss: 0.21627667546272278, Accracy: 0.5418000221252441\n",
      "Epoch 31, CIFAR-10 Batch 1:  Loss: 0.1747438758611679, Accracy: 0.5400000214576721\n",
      "Epoch 32, CIFAR-10 Batch 1:  Loss: 0.15359148383140564, Accracy: 0.5526000261306763\n",
      "Epoch 33, CIFAR-10 Batch 1:  Loss: 0.1571735441684723, Accracy: 0.5515999794006348\n",
      "Epoch 34, CIFAR-10 Batch 1:  Loss: 0.142515629529953, Accracy: 0.5424000024795532\n",
      "Epoch 35, CIFAR-10 Batch 1:  Loss: 0.1348196566104889, Accracy: 0.5379999876022339\n",
      "Epoch 36, CIFAR-10 Batch 1:  Loss: 0.1157856360077858, Accracy: 0.548799991607666\n",
      "Epoch 37, CIFAR-10 Batch 1:  Loss: 0.10275127738714218, Accracy: 0.5523999929428101\n",
      "Epoch 38, CIFAR-10 Batch 1:  Loss: 0.10539726912975311, Accracy: 0.5493999719619751\n",
      "Epoch 39, CIFAR-10 Batch 1:  Loss: 0.08459483087062836, Accracy: 0.5511999726295471\n",
      "Epoch 40, CIFAR-10 Batch 1:  Loss: 0.08486349135637283, Accracy: 0.5598000288009644\n",
      "Epoch 41, CIFAR-10 Batch 1:  Loss: 0.09502292424440384, Accracy: 0.5551999807357788\n",
      "Epoch 42, CIFAR-10 Batch 1:  Loss: 0.06193271279335022, Accracy: 0.5541999936103821\n",
      "Epoch 43, CIFAR-10 Batch 1:  Loss: 0.0545637384057045, Accracy: 0.5663999915122986\n",
      "Epoch 44, CIFAR-10 Batch 1:  Loss: 0.051216043531894684, Accracy: 0.578000009059906\n",
      "Epoch 45, CIFAR-10 Batch 1:  Loss: 0.03623455762863159, Accracy: 0.5551999807357788\n",
      "Epoch 46, CIFAR-10 Batch 1:  Loss: 0.04054585099220276, Accracy: 0.5644000172615051\n",
      "Epoch 47, CIFAR-10 Batch 1:  Loss: 0.03739620000123978, Accracy: 0.5666000247001648\n",
      "Epoch 48, CIFAR-10 Batch 1:  Loss: 0.03916936367750168, Accracy: 0.569599986076355\n",
      "Epoch 49, CIFAR-10 Batch 1:  Loss: 0.03184056282043457, Accracy: 0.5740000009536743\n",
      "Epoch 50, CIFAR-10 Batch 1:  Loss: 0.030951177701354027, Accracy: 0.569599986076355\n",
      "Epoch 51, CIFAR-10 Batch 1:  Loss: 0.029604271054267883, Accracy: 0.574400007724762\n",
      "Epoch 52, CIFAR-10 Batch 1:  Loss: 0.025883102789521217, Accracy: 0.5594000220298767\n",
      "Epoch 53, CIFAR-10 Batch 1:  Loss: 0.04522336274385452, Accracy: 0.553600013256073\n",
      "Epoch 54, CIFAR-10 Batch 1:  Loss: 0.010059265419840813, Accracy: 0.5838000178337097\n",
      "Epoch 55, CIFAR-10 Batch 1:  Loss: 0.01222614012658596, Accracy: 0.5776000022888184\n",
      "Epoch 56, CIFAR-10 Batch 1:  Loss: 0.009240671992301941, Accracy: 0.5759999752044678\n",
      "Epoch 57, CIFAR-10 Batch 1:  Loss: 0.013284772634506226, Accracy: 0.5770000219345093\n",
      "Epoch 58, CIFAR-10 Batch 1:  Loss: 0.009612957015633583, Accracy: 0.5839999914169312\n",
      "Epoch 59, CIFAR-10 Batch 1:  Loss: 0.00909545086324215, Accracy: 0.5789999961853027\n",
      "Epoch 60, CIFAR-10 Batch 1:  Loss: 0.005320366472005844, Accracy: 0.571399986743927\n"
     ]
    }
   ],
   "source": [
    "\"\"\"\n",
    "DON'T MODIFY ANYTHING IN THIS CELL\n",
    "\"\"\"\n",
    "print('Checking the Training on a Single Batch...')\n",
    "tf.device('/gpu:0')\n",
    "with tf.Session() as sess:\n",
    "# Initializing the variables\n",
    "    sess.run(tf.global_variables_initializer())\n",
    "\n",
    "# Training cycle\n",
    "    for epoch in range(epochs):\n",
    "        batch_i = 1\n",
    "        for batch_features, batch_labels in helper.load_preprocess_training_batch(batch_i, batch_size):\n",
    "            train_neural_network(sess, optimizer, keep_probability, batch_features, batch_labels)\n",
    "        print('Epoch {:>2}, CIFAR-10 Batch {}:  '.format(epoch + 1, batch_i), end='')\n",
    "        print_stats(sess, batch_features, batch_labels, cost, accuracy)"
   ]
  },
  {
   "cell_type": "markdown",
   "metadata": {},
   "source": [
    "### Fully Train the Model\n",
    "Now that you got a good accuracy with a single CIFAR-10 batch, try it with all five batches."
   ]
  },
  {
   "cell_type": "code",
   "execution_count": 42,
   "metadata": {
    "scrolled": true
   },
   "outputs": [
    {
     "name": "stdout",
     "output_type": "stream",
     "text": [
      "Training...\n",
      "Epoch  1, CIFAR-10 Batch 1:  Loss: 2.289186477661133, Accracy: 0.1736000031232834\n",
      "Epoch  1, CIFAR-10 Batch 2:  Loss: 1.8961296081542969, Accracy: 0.2750000059604645\n",
      "Epoch  1, CIFAR-10 Batch 3:  Loss: 1.7377580404281616, Accracy: 0.30979999899864197\n",
      "Epoch  1, CIFAR-10 Batch 4:  Loss: 1.7673418521881104, Accracy: 0.34040001034736633\n",
      "Epoch  1, CIFAR-10 Batch 5:  Loss: 1.7293198108673096, Accracy: 0.387800008058548\n",
      "Epoch  2, CIFAR-10 Batch 1:  Loss: 1.8292121887207031, Accracy: 0.38359999656677246\n",
      "Epoch  2, CIFAR-10 Batch 2:  Loss: 1.5563863515853882, Accracy: 0.4090000092983246\n",
      "Epoch  2, CIFAR-10 Batch 3:  Loss: 1.2480719089508057, Accracy: 0.4129999876022339\n",
      "Epoch  2, CIFAR-10 Batch 4:  Loss: 1.4653078317642212, Accracy: 0.4296000003814697\n",
      "Epoch  2, CIFAR-10 Batch 5:  Loss: 1.781296968460083, Accracy: 0.45899999141693115\n",
      "Epoch  3, CIFAR-10 Batch 1:  Loss: 1.608717679977417, Accracy: 0.45320001244544983\n",
      "Epoch  3, CIFAR-10 Batch 2:  Loss: 1.440002202987671, Accracy: 0.44780001044273376\n",
      "Epoch  3, CIFAR-10 Batch 3:  Loss: 1.0587103366851807, Accracy: 0.49239999055862427\n",
      "Epoch  3, CIFAR-10 Batch 4:  Loss: 1.262565016746521, Accracy: 0.49779999256134033\n",
      "Epoch  3, CIFAR-10 Batch 5:  Loss: 1.4336540699005127, Accracy: 0.4814000129699707\n",
      "Epoch  4, CIFAR-10 Batch 1:  Loss: 1.347364902496338, Accracy: 0.5156000256538391\n",
      "Epoch  4, CIFAR-10 Batch 2:  Loss: 1.2751249074935913, Accracy: 0.5371999740600586\n",
      "Epoch  4, CIFAR-10 Batch 3:  Loss: 0.8671953082084656, Accracy: 0.532800018787384\n",
      "Epoch  4, CIFAR-10 Batch 4:  Loss: 1.1489627361297607, Accracy: 0.5260000228881836\n",
      "Epoch  4, CIFAR-10 Batch 5:  Loss: 1.3237407207489014, Accracy: 0.5339999794960022\n",
      "Epoch  5, CIFAR-10 Batch 1:  Loss: 1.1808898448944092, Accracy: 0.5419999957084656\n",
      "Epoch  5, CIFAR-10 Batch 2:  Loss: 1.0837249755859375, Accracy: 0.5612000226974487\n",
      "Epoch  5, CIFAR-10 Batch 3:  Loss: 0.7763639688491821, Accracy: 0.5667999982833862\n",
      "Epoch  5, CIFAR-10 Batch 4:  Loss: 1.0061231851577759, Accracy: 0.569599986076355\n",
      "Epoch  5, CIFAR-10 Batch 5:  Loss: 1.1804015636444092, Accracy: 0.5687999725341797\n",
      "Epoch  6, CIFAR-10 Batch 1:  Loss: 1.009539246559143, Accracy: 0.5717999935150146\n",
      "Epoch  6, CIFAR-10 Batch 2:  Loss: 0.9053398370742798, Accracy: 0.5896000266075134\n",
      "Epoch  6, CIFAR-10 Batch 3:  Loss: 0.7588704824447632, Accracy: 0.5777999758720398\n",
      "Epoch  6, CIFAR-10 Batch 4:  Loss: 0.9582255482673645, Accracy: 0.5627999901771545\n",
      "Epoch  6, CIFAR-10 Batch 5:  Loss: 1.1061127185821533, Accracy: 0.5741999745368958\n",
      "Epoch  7, CIFAR-10 Batch 1:  Loss: 0.8902143239974976, Accracy: 0.5898000001907349\n",
      "Epoch  7, CIFAR-10 Batch 2:  Loss: 0.8329023122787476, Accracy: 0.6039999723434448\n",
      "Epoch  7, CIFAR-10 Batch 3:  Loss: 0.6054710149765015, Accracy: 0.6122000217437744\n",
      "Epoch  7, CIFAR-10 Batch 4:  Loss: 0.8906232118606567, Accracy: 0.5938000082969666\n",
      "Epoch  7, CIFAR-10 Batch 5:  Loss: 0.8753818273544312, Accracy: 0.6086000204086304\n",
      "Epoch  8, CIFAR-10 Batch 1:  Loss: 0.8432682752609253, Accracy: 0.6050000190734863\n",
      "Epoch  8, CIFAR-10 Batch 2:  Loss: 0.7278000712394714, Accracy: 0.6154000163078308\n",
      "Epoch  8, CIFAR-10 Batch 3:  Loss: 0.6098068952560425, Accracy: 0.6209999918937683\n",
      "Epoch  8, CIFAR-10 Batch 4:  Loss: 0.7979393601417542, Accracy: 0.621999979019165\n",
      "Epoch  8, CIFAR-10 Batch 5:  Loss: 0.6801339983940125, Accracy: 0.6065999865531921\n",
      "Epoch  9, CIFAR-10 Batch 1:  Loss: 0.7190473675727844, Accracy: 0.6118000149726868\n",
      "Epoch  9, CIFAR-10 Batch 2:  Loss: 0.744094967842102, Accracy: 0.6269999742507935\n",
      "Epoch  9, CIFAR-10 Batch 3:  Loss: 0.47504177689552307, Accracy: 0.6362000107765198\n",
      "Epoch  9, CIFAR-10 Batch 4:  Loss: 0.7363415360450745, Accracy: 0.6215999722480774\n",
      "Epoch  9, CIFAR-10 Batch 5:  Loss: 0.5988882780075073, Accracy: 0.6430000066757202\n",
      "Epoch 10, CIFAR-10 Batch 1:  Loss: 0.6292276382446289, Accracy: 0.6150000095367432\n",
      "Epoch 10, CIFAR-10 Batch 2:  Loss: 0.5909954905509949, Accracy: 0.6320000290870667\n",
      "Epoch 10, CIFAR-10 Batch 3:  Loss: 0.4756488800048828, Accracy: 0.6488000154495239\n",
      "Epoch 10, CIFAR-10 Batch 4:  Loss: 0.5844913721084595, Accracy: 0.6344000101089478\n",
      "Epoch 10, CIFAR-10 Batch 5:  Loss: 0.5251502990722656, Accracy: 0.6547999978065491\n",
      "Epoch 11, CIFAR-10 Batch 1:  Loss: 0.5316319465637207, Accracy: 0.6406000256538391\n",
      "Epoch 11, CIFAR-10 Batch 2:  Loss: 0.5198538899421692, Accracy: 0.6585999727249146\n",
      "Epoch 11, CIFAR-10 Batch 3:  Loss: 0.3973067104816437, Accracy: 0.6679999828338623\n",
      "Epoch 11, CIFAR-10 Batch 4:  Loss: 0.4927690625190735, Accracy: 0.651199996471405\n",
      "Epoch 11, CIFAR-10 Batch 5:  Loss: 0.5144435167312622, Accracy: 0.6552000045776367\n",
      "Epoch 12, CIFAR-10 Batch 1:  Loss: 0.45221519470214844, Accracy: 0.6496000289916992\n",
      "Epoch 12, CIFAR-10 Batch 2:  Loss: 0.40906018018722534, Accracy: 0.6589999794960022\n",
      "Epoch 12, CIFAR-10 Batch 3:  Loss: 0.34663301706314087, Accracy: 0.6826000213623047\n",
      "Epoch 12, CIFAR-10 Batch 4:  Loss: 0.5146186351776123, Accracy: 0.6686000227928162\n",
      "Epoch 12, CIFAR-10 Batch 5:  Loss: 0.40885448455810547, Accracy: 0.6603999733924866\n",
      "Epoch 13, CIFAR-10 Batch 1:  Loss: 0.4491867125034332, Accracy: 0.6732000112533569\n",
      "Epoch 13, CIFAR-10 Batch 2:  Loss: 0.3609691262245178, Accracy: 0.6772000193595886\n",
      "Epoch 13, CIFAR-10 Batch 3:  Loss: 0.3001018464565277, Accracy: 0.6814000010490417\n",
      "Epoch 13, CIFAR-10 Batch 4:  Loss: 0.4494369626045227, Accracy: 0.6651999950408936\n",
      "Epoch 13, CIFAR-10 Batch 5:  Loss: 0.31954827904701233, Accracy: 0.6715999841690063\n",
      "Epoch 14, CIFAR-10 Batch 1:  Loss: 0.4478382170200348, Accracy: 0.6570000052452087\n",
      "Epoch 14, CIFAR-10 Batch 2:  Loss: 0.3200071454048157, Accracy: 0.6937999725341797\n",
      "Epoch 14, CIFAR-10 Batch 3:  Loss: 0.29543501138687134, Accracy: 0.6740000247955322\n",
      "Epoch 14, CIFAR-10 Batch 4:  Loss: 0.43267518281936646, Accracy: 0.6916000247001648\n",
      "Epoch 14, CIFAR-10 Batch 5:  Loss: 0.2938728928565979, Accracy: 0.6904000043869019\n",
      "Epoch 15, CIFAR-10 Batch 1:  Loss: 0.29609766602516174, Accracy: 0.6922000050544739\n",
      "Epoch 15, CIFAR-10 Batch 2:  Loss: 0.27249354124069214, Accracy: 0.6926000118255615\n",
      "Epoch 15, CIFAR-10 Batch 3:  Loss: 0.22792263329029083, Accracy: 0.6972000002861023\n",
      "Epoch 15, CIFAR-10 Batch 4:  Loss: 0.34051018953323364, Accracy: 0.6912000179290771\n",
      "Epoch 15, CIFAR-10 Batch 5:  Loss: 0.29669275879859924, Accracy: 0.6700000166893005\n",
      "Epoch 16, CIFAR-10 Batch 1:  Loss: 0.24056020379066467, Accracy: 0.6876000165939331\n",
      "Epoch 16, CIFAR-10 Batch 2:  Loss: 0.2359941303730011, Accracy: 0.6998000144958496\n",
      "Epoch 16, CIFAR-10 Batch 3:  Loss: 0.18400318920612335, Accracy: 0.6998000144958496\n",
      "Epoch 16, CIFAR-10 Batch 4:  Loss: 0.31323328614234924, Accracy: 0.6944000124931335\n",
      "Epoch 16, CIFAR-10 Batch 5:  Loss: 0.2775339186191559, Accracy: 0.6848000288009644\n",
      "Epoch 17, CIFAR-10 Batch 1:  Loss: 0.21516704559326172, Accracy: 0.6922000050544739\n",
      "Epoch 17, CIFAR-10 Batch 2:  Loss: 0.21078352630138397, Accracy: 0.7009999752044678\n",
      "Epoch 17, CIFAR-10 Batch 3:  Loss: 0.15463869273662567, Accracy: 0.7062000036239624\n",
      "Epoch 17, CIFAR-10 Batch 4:  Loss: 0.2670251131057739, Accracy: 0.696399986743927\n",
      "Epoch 17, CIFAR-10 Batch 5:  Loss: 0.18617066740989685, Accracy: 0.6736000180244446\n",
      "Epoch 18, CIFAR-10 Batch 1:  Loss: 0.16442647576332092, Accracy: 0.6959999799728394\n",
      "Epoch 18, CIFAR-10 Batch 2:  Loss: 0.15938059985637665, Accracy: 0.6944000124931335\n",
      "Epoch 18, CIFAR-10 Batch 3:  Loss: 0.11040979623794556, Accracy: 0.7063999772071838\n",
      "Epoch 18, CIFAR-10 Batch 4:  Loss: 0.27176934480667114, Accracy: 0.7129999995231628\n",
      "Epoch 18, CIFAR-10 Batch 5:  Loss: 0.09632839262485504, Accracy: 0.6883999705314636\n",
      "Epoch 19, CIFAR-10 Batch 1:  Loss: 0.1433473378419876, Accracy: 0.6977999806404114\n",
      "Epoch 19, CIFAR-10 Batch 2:  Loss: 0.13811202347278595, Accracy: 0.6955999732017517\n",
      "Epoch 19, CIFAR-10 Batch 3:  Loss: 0.11333025991916656, Accracy: 0.7062000036239624\n",
      "Epoch 19, CIFAR-10 Batch 4:  Loss: 0.1795653998851776, Accracy: 0.7135999798774719\n",
      "Epoch 19, CIFAR-10 Batch 5:  Loss: 0.08440480381250381, Accracy: 0.7020000219345093\n",
      "Epoch 20, CIFAR-10 Batch 1:  Loss: 0.09707847237586975, Accracy: 0.7089999914169312\n",
      "Epoch 20, CIFAR-10 Batch 2:  Loss: 0.09186869859695435, Accracy: 0.7026000022888184\n",
      "Epoch 20, CIFAR-10 Batch 3:  Loss: 0.05522947385907173, Accracy: 0.7009999752044678\n"
     ]
    },
    {
     "name": "stdout",
     "output_type": "stream",
     "text": [
      "Epoch 20, CIFAR-10 Batch 4:  Loss: 0.13135501742362976, Accracy: 0.7184000015258789\n",
      "Epoch 20, CIFAR-10 Batch 5:  Loss: 0.07340274751186371, Accracy: 0.704800009727478\n",
      "Epoch 21, CIFAR-10 Batch 1:  Loss: 0.14327073097229004, Accracy: 0.717199981212616\n",
      "Epoch 21, CIFAR-10 Batch 2:  Loss: 0.06407802551984787, Accracy: 0.7232000231742859\n",
      "Epoch 21, CIFAR-10 Batch 3:  Loss: 0.0823771059513092, Accracy: 0.7016000151634216\n",
      "Epoch 21, CIFAR-10 Batch 4:  Loss: 0.1410314291715622, Accracy: 0.7111999988555908\n",
      "Epoch 21, CIFAR-10 Batch 5:  Loss: 0.07625697553157806, Accracy: 0.7077999711036682\n",
      "Epoch 22, CIFAR-10 Batch 1:  Loss: 0.08388368785381317, Accracy: 0.7196000218391418\n",
      "Epoch 22, CIFAR-10 Batch 2:  Loss: 0.05987207964062691, Accracy: 0.7246000170707703\n",
      "Epoch 22, CIFAR-10 Batch 3:  Loss: 0.05282937362790108, Accracy: 0.7218000292778015\n",
      "Epoch 22, CIFAR-10 Batch 4:  Loss: 0.09787735342979431, Accracy: 0.7185999751091003\n",
      "Epoch 22, CIFAR-10 Batch 5:  Loss: 0.0589730329811573, Accracy: 0.7196000218391418\n",
      "Epoch 23, CIFAR-10 Batch 1:  Loss: 0.08083722740411758, Accracy: 0.7156000137329102\n",
      "Epoch 23, CIFAR-10 Batch 2:  Loss: 0.11698706448078156, Accracy: 0.7085999846458435\n",
      "Epoch 23, CIFAR-10 Batch 3:  Loss: 0.03423752635717392, Accracy: 0.6998000144958496\n",
      "Epoch 23, CIFAR-10 Batch 4:  Loss: 0.12772564589977264, Accracy: 0.7251999974250793\n",
      "Epoch 23, CIFAR-10 Batch 5:  Loss: 0.07193386554718018, Accracy: 0.723800003528595\n",
      "Epoch 24, CIFAR-10 Batch 1:  Loss: 0.056782692670822144, Accracy: 0.7239999771118164\n",
      "Epoch 24, CIFAR-10 Batch 2:  Loss: 0.05998891592025757, Accracy: 0.7218000292778015\n",
      "Epoch 24, CIFAR-10 Batch 3:  Loss: 0.03547397255897522, Accracy: 0.6949999928474426\n",
      "Epoch 24, CIFAR-10 Batch 4:  Loss: 0.08229187875986099, Accracy: 0.7221999764442444\n",
      "Epoch 24, CIFAR-10 Batch 5:  Loss: 0.034042321145534515, Accracy: 0.7260000109672546\n",
      "Epoch 25, CIFAR-10 Batch 1:  Loss: 0.04081033170223236, Accracy: 0.7125999927520752\n",
      "Epoch 25, CIFAR-10 Batch 2:  Loss: 0.04276972636580467, Accracy: 0.7188000082969666\n",
      "Epoch 25, CIFAR-10 Batch 3:  Loss: 0.042928874492645264, Accracy: 0.7057999968528748\n",
      "Epoch 25, CIFAR-10 Batch 4:  Loss: 0.04871920496225357, Accracy: 0.7250000238418579\n",
      "Epoch 25, CIFAR-10 Batch 5:  Loss: 0.05797819048166275, Accracy: 0.72079998254776\n",
      "Epoch 26, CIFAR-10 Batch 1:  Loss: 0.05125169828534126, Accracy: 0.7310000061988831\n",
      "Epoch 26, CIFAR-10 Batch 2:  Loss: 0.05177532508969307, Accracy: 0.7296000123023987\n",
      "Epoch 26, CIFAR-10 Batch 3:  Loss: 0.022912945598363876, Accracy: 0.7095999717712402\n",
      "Epoch 26, CIFAR-10 Batch 4:  Loss: 0.05050238221883774, Accracy: 0.7224000096321106\n",
      "Epoch 26, CIFAR-10 Batch 5:  Loss: 0.022101566195487976, Accracy: 0.7368000149726868\n",
      "Epoch 27, CIFAR-10 Batch 1:  Loss: 0.042202312499284744, Accracy: 0.7160000205039978\n",
      "Epoch 27, CIFAR-10 Batch 2:  Loss: 0.025213276967406273, Accracy: 0.7182000279426575\n",
      "Epoch 27, CIFAR-10 Batch 3:  Loss: 0.028889527544379234, Accracy: 0.7218000292778015\n",
      "Epoch 27, CIFAR-10 Batch 4:  Loss: 0.033402591943740845, Accracy: 0.7319999933242798\n",
      "Epoch 27, CIFAR-10 Batch 5:  Loss: 0.012192131951451302, Accracy: 0.7378000020980835\n",
      "Epoch 28, CIFAR-10 Batch 1:  Loss: 0.044719018042087555, Accracy: 0.7282000184059143\n",
      "Epoch 28, CIFAR-10 Batch 2:  Loss: 0.02305843122303486, Accracy: 0.725600004196167\n",
      "Epoch 28, CIFAR-10 Batch 3:  Loss: 0.02054644003510475, Accracy: 0.7328000068664551\n",
      "Epoch 28, CIFAR-10 Batch 4:  Loss: 0.027579188346862793, Accracy: 0.722000002861023\n",
      "Epoch 28, CIFAR-10 Batch 5:  Loss: 0.010230578482151031, Accracy: 0.7343999743461609\n",
      "Epoch 29, CIFAR-10 Batch 1:  Loss: 0.026469817385077477, Accracy: 0.7184000015258789\n",
      "Epoch 29, CIFAR-10 Batch 2:  Loss: 0.011351561173796654, Accracy: 0.7268000245094299\n",
      "Epoch 29, CIFAR-10 Batch 3:  Loss: 0.016266923397779465, Accracy: 0.7253999710083008\n",
      "Epoch 29, CIFAR-10 Batch 4:  Loss: 0.027048209682106972, Accracy: 0.7319999933242798\n",
      "Epoch 29, CIFAR-10 Batch 5:  Loss: 0.015844736248254776, Accracy: 0.73580002784729\n",
      "Epoch 30, CIFAR-10 Batch 1:  Loss: 0.022293178364634514, Accracy: 0.7034000158309937\n",
      "Epoch 30, CIFAR-10 Batch 2:  Loss: 0.014297586865723133, Accracy: 0.7257999777793884\n",
      "Epoch 30, CIFAR-10 Batch 3:  Loss: 0.0233985036611557, Accracy: 0.7319999933242798\n",
      "Epoch 30, CIFAR-10 Batch 4:  Loss: 0.020723629742860794, Accracy: 0.7297999858856201\n",
      "Epoch 30, CIFAR-10 Batch 5:  Loss: 0.02135814167559147, Accracy: 0.7218000292778015\n",
      "Epoch 31, CIFAR-10 Batch 1:  Loss: 0.011469098739326, Accracy: 0.7253999710083008\n",
      "Epoch 31, CIFAR-10 Batch 2:  Loss: 0.009585310705006123, Accracy: 0.72079998254776\n",
      "Epoch 31, CIFAR-10 Batch 3:  Loss: 0.011312609538435936, Accracy: 0.7311999797821045\n",
      "Epoch 31, CIFAR-10 Batch 4:  Loss: 0.019530009478330612, Accracy: 0.7260000109672546\n",
      "Epoch 31, CIFAR-10 Batch 5:  Loss: 0.0073515004478394985, Accracy: 0.7301999926567078\n",
      "Epoch 32, CIFAR-10 Batch 1:  Loss: 0.015985820442438126, Accracy: 0.7228000164031982\n",
      "Epoch 32, CIFAR-10 Batch 2:  Loss: 0.009243516251444817, Accracy: 0.7368000149726868\n",
      "Epoch 32, CIFAR-10 Batch 3:  Loss: 0.01130764652043581, Accracy: 0.730400025844574\n",
      "Epoch 32, CIFAR-10 Batch 4:  Loss: 0.02326386235654354, Accracy: 0.7315999865531921\n",
      "Epoch 32, CIFAR-10 Batch 5:  Loss: 0.004292204976081848, Accracy: 0.7437999844551086\n",
      "Epoch 33, CIFAR-10 Batch 1:  Loss: 0.008047389797866344, Accracy: 0.7120000123977661\n",
      "Epoch 33, CIFAR-10 Batch 2:  Loss: 0.01729040965437889, Accracy: 0.7239999771118164\n",
      "Epoch 33, CIFAR-10 Batch 3:  Loss: 0.016115322709083557, Accracy: 0.7346000075340271\n",
      "Epoch 33, CIFAR-10 Batch 4:  Loss: 0.021969249472022057, Accracy: 0.7332000136375427\n",
      "Epoch 33, CIFAR-10 Batch 5:  Loss: 0.0077742040157318115, Accracy: 0.7368000149726868\n",
      "Epoch 34, CIFAR-10 Batch 1:  Loss: 0.01272323727607727, Accracy: 0.7185999751091003\n",
      "Epoch 34, CIFAR-10 Batch 2:  Loss: 0.027256613597273827, Accracy: 0.7257999777793884\n",
      "Epoch 34, CIFAR-10 Batch 3:  Loss: 0.011792582459747791, Accracy: 0.7251999974250793\n",
      "Epoch 34, CIFAR-10 Batch 4:  Loss: 0.017605822533369064, Accracy: 0.7167999744415283\n",
      "Epoch 34, CIFAR-10 Batch 5:  Loss: 0.018748488277196884, Accracy: 0.75\n",
      "Epoch 35, CIFAR-10 Batch 1:  Loss: 0.006976922042667866, Accracy: 0.7365999817848206\n",
      "Epoch 35, CIFAR-10 Batch 2:  Loss: 0.017598146572709084, Accracy: 0.7232000231742859\n",
      "Epoch 35, CIFAR-10 Batch 3:  Loss: 0.006889243610203266, Accracy: 0.7408000230789185\n",
      "Epoch 35, CIFAR-10 Batch 4:  Loss: 0.01818673685193062, Accracy: 0.7250000238418579\n",
      "Epoch 35, CIFAR-10 Batch 5:  Loss: 0.011846674606204033, Accracy: 0.7414000034332275\n",
      "Epoch 36, CIFAR-10 Batch 1:  Loss: 0.008390175178647041, Accracy: 0.7221999764442444\n",
      "Epoch 36, CIFAR-10 Batch 2:  Loss: 0.01618308201432228, Accracy: 0.7203999757766724\n",
      "Epoch 36, CIFAR-10 Batch 3:  Loss: 0.007516490761190653, Accracy: 0.7458000183105469\n",
      "Epoch 36, CIFAR-10 Batch 4:  Loss: 0.009447216987609863, Accracy: 0.7305999994277954\n",
      "Epoch 36, CIFAR-10 Batch 5:  Loss: 0.008542632684111595, Accracy: 0.7396000027656555\n",
      "Epoch 37, CIFAR-10 Batch 1:  Loss: 0.006722256541252136, Accracy: 0.723800003528595\n",
      "Epoch 37, CIFAR-10 Batch 2:  Loss: 0.006945946253836155, Accracy: 0.7233999967575073\n",
      "Epoch 37, CIFAR-10 Batch 3:  Loss: 0.01484676729887724, Accracy: 0.7411999702453613\n",
      "Epoch 37, CIFAR-10 Batch 4:  Loss: 0.015663502737879753, Accracy: 0.7221999764442444\n",
      "Epoch 37, CIFAR-10 Batch 5:  Loss: 0.000923394225537777, Accracy: 0.7462000250816345\n",
      "Epoch 38, CIFAR-10 Batch 1:  Loss: 0.014647671952843666, Accracy: 0.7215999960899353\n",
      "Epoch 38, CIFAR-10 Batch 2:  Loss: 0.0035734870471060276, Accracy: 0.7174000144004822\n",
      "Epoch 38, CIFAR-10 Batch 3:  Loss: 0.0029785451479256153, Accracy: 0.743399977684021\n",
      "Epoch 38, CIFAR-10 Batch 4:  Loss: 0.0073678335174918175, Accracy: 0.7300000190734863\n",
      "Epoch 38, CIFAR-10 Batch 5:  Loss: 0.0016715669771656394, Accracy: 0.7354000210762024\n",
      "Epoch 39, CIFAR-10 Batch 1:  Loss: 0.001917785033583641, Accracy: 0.7278000116348267\n",
      "Epoch 39, CIFAR-10 Batch 2:  Loss: 0.0038042187225073576, Accracy: 0.7279999852180481\n",
      "Epoch 39, CIFAR-10 Batch 3:  Loss: 0.0032616853713989258, Accracy: 0.7422000169754028\n",
      "Epoch 39, CIFAR-10 Batch 4:  Loss: 0.02153804525732994, Accracy: 0.7365999817848206\n",
      "Epoch 39, CIFAR-10 Batch 5:  Loss: 0.0017492640763521194, Accracy: 0.7373999953269958\n"
     ]
    },
    {
     "name": "stdout",
     "output_type": "stream",
     "text": [
      "Epoch 40, CIFAR-10 Batch 1:  Loss: 0.005258140154182911, Accracy: 0.7300000190734863\n",
      "Epoch 40, CIFAR-10 Batch 2:  Loss: 0.004267175681889057, Accracy: 0.7120000123977661\n",
      "Epoch 40, CIFAR-10 Batch 3:  Loss: 0.008254975080490112, Accracy: 0.7329999804496765\n",
      "Epoch 40, CIFAR-10 Batch 4:  Loss: 0.018161017447710037, Accracy: 0.7365999817848206\n",
      "Epoch 40, CIFAR-10 Batch 5:  Loss: 0.0011271669063717127, Accracy: 0.729200005531311\n",
      "Epoch 41, CIFAR-10 Batch 1:  Loss: 0.002438554773107171, Accracy: 0.7278000116348267\n",
      "Epoch 41, CIFAR-10 Batch 2:  Loss: 0.005579980090260506, Accracy: 0.7257999777793884\n",
      "Epoch 41, CIFAR-10 Batch 3:  Loss: 0.004402293357998133, Accracy: 0.7260000109672546\n",
      "Epoch 41, CIFAR-10 Batch 4:  Loss: 0.01716035045683384, Accracy: 0.7253999710083008\n",
      "Epoch 41, CIFAR-10 Batch 5:  Loss: 0.0017010436858981848, Accracy: 0.7379999756813049\n",
      "Epoch 42, CIFAR-10 Batch 1:  Loss: 0.002042072359472513, Accracy: 0.7261999845504761\n",
      "Epoch 42, CIFAR-10 Batch 2:  Loss: 0.003929374739527702, Accracy: 0.722599983215332\n",
      "Epoch 42, CIFAR-10 Batch 3:  Loss: 0.001958283130079508, Accracy: 0.7501999735832214\n",
      "Epoch 42, CIFAR-10 Batch 4:  Loss: 0.015895027667284012, Accracy: 0.732200026512146\n",
      "Epoch 42, CIFAR-10 Batch 5:  Loss: 0.006299202796071768, Accracy: 0.7387999892234802\n",
      "Epoch 43, CIFAR-10 Batch 1:  Loss: 0.001050206832587719, Accracy: 0.7342000007629395\n",
      "Epoch 43, CIFAR-10 Batch 2:  Loss: 0.0021610117983072996, Accracy: 0.7351999878883362\n",
      "Epoch 43, CIFAR-10 Batch 3:  Loss: 0.0007928463746793568, Accracy: 0.7324000000953674\n",
      "Epoch 43, CIFAR-10 Batch 4:  Loss: 0.004838803317397833, Accracy: 0.7432000041007996\n",
      "Epoch 43, CIFAR-10 Batch 5:  Loss: 0.0005097953835502267, Accracy: 0.7387999892234802\n",
      "Epoch 44, CIFAR-10 Batch 1:  Loss: 0.004119750577956438, Accracy: 0.7215999960899353\n",
      "Epoch 44, CIFAR-10 Batch 2:  Loss: 0.0029099048115313053, Accracy: 0.7333999872207642\n",
      "Epoch 44, CIFAR-10 Batch 3:  Loss: 0.0006353838834911585, Accracy: 0.7296000123023987\n",
      "Epoch 44, CIFAR-10 Batch 4:  Loss: 0.001713161705993116, Accracy: 0.7342000007629395\n",
      "Epoch 44, CIFAR-10 Batch 5:  Loss: 0.002541034482419491, Accracy: 0.734000027179718\n",
      "Epoch 45, CIFAR-10 Batch 1:  Loss: 0.0005811162409372628, Accracy: 0.724399983882904\n",
      "Epoch 45, CIFAR-10 Batch 2:  Loss: 0.0037433034740388393, Accracy: 0.722599983215332\n",
      "Epoch 45, CIFAR-10 Batch 3:  Loss: 0.0003388345940038562, Accracy: 0.7354000210762024\n",
      "Epoch 45, CIFAR-10 Batch 4:  Loss: 0.0025308276526629925, Accracy: 0.7287999987602234\n",
      "Epoch 45, CIFAR-10 Batch 5:  Loss: 0.00033301179064437747, Accracy: 0.7347999811172485\n",
      "Epoch 46, CIFAR-10 Batch 1:  Loss: 0.0035264031030237675, Accracy: 0.729200005531311\n",
      "Epoch 46, CIFAR-10 Batch 2:  Loss: 0.006655633449554443, Accracy: 0.7423999905586243\n",
      "Epoch 46, CIFAR-10 Batch 3:  Loss: 0.0005968174082227051, Accracy: 0.739799976348877\n",
      "Epoch 46, CIFAR-10 Batch 4:  Loss: 0.014057213440537453, Accracy: 0.729200005531311\n",
      "Epoch 46, CIFAR-10 Batch 5:  Loss: 0.0007214294746518135, Accracy: 0.7365999817848206\n",
      "Epoch 47, CIFAR-10 Batch 1:  Loss: 0.0005553017253987491, Accracy: 0.7336000204086304\n",
      "Epoch 47, CIFAR-10 Batch 2:  Loss: 0.0009685198892839253, Accracy: 0.7315999865531921\n",
      "Epoch 47, CIFAR-10 Batch 3:  Loss: 0.001112000783905387, Accracy: 0.7342000007629395\n",
      "Epoch 47, CIFAR-10 Batch 4:  Loss: 0.0020490337628871202, Accracy: 0.7369999885559082\n",
      "Epoch 47, CIFAR-10 Batch 5:  Loss: 0.0008117113029584289, Accracy: 0.7329999804496765\n",
      "Epoch 48, CIFAR-10 Batch 1:  Loss: 0.0013171385508030653, Accracy: 0.7287999987602234\n",
      "Epoch 48, CIFAR-10 Batch 2:  Loss: 0.000803447503130883, Accracy: 0.7297999858856201\n",
      "Epoch 48, CIFAR-10 Batch 3:  Loss: 0.0011753409635275602, Accracy: 0.7450000047683716\n",
      "Epoch 48, CIFAR-10 Batch 4:  Loss: 0.003115094732493162, Accracy: 0.7196000218391418\n",
      "Epoch 48, CIFAR-10 Batch 5:  Loss: 0.00046543506323359907, Accracy: 0.7400000095367432\n",
      "Epoch 49, CIFAR-10 Batch 1:  Loss: 0.0003280949022155255, Accracy: 0.7233999967575073\n",
      "Epoch 49, CIFAR-10 Batch 2:  Loss: 0.0006595510640181601, Accracy: 0.7328000068664551\n",
      "Epoch 49, CIFAR-10 Batch 3:  Loss: 0.0009235881152562797, Accracy: 0.743399977684021\n",
      "Epoch 49, CIFAR-10 Batch 4:  Loss: 0.0015045974869281054, Accracy: 0.7287999987602234\n",
      "Epoch 49, CIFAR-10 Batch 5:  Loss: 0.001528342254459858, Accracy: 0.7269999980926514\n",
      "Epoch 50, CIFAR-10 Batch 1:  Loss: 0.0003605554229579866, Accracy: 0.7247999906539917\n",
      "Epoch 50, CIFAR-10 Batch 2:  Loss: 0.0009565545478835702, Accracy: 0.7170000076293945\n",
      "Epoch 50, CIFAR-10 Batch 3:  Loss: 0.0019716459792107344, Accracy: 0.7429999709129333\n",
      "Epoch 50, CIFAR-10 Batch 4:  Loss: 0.004822602961212397, Accracy: 0.7343999743461609\n",
      "Epoch 50, CIFAR-10 Batch 5:  Loss: 9.396090899826959e-05, Accracy: 0.7427999973297119\n",
      "Epoch 51, CIFAR-10 Batch 1:  Loss: 0.0020448644645512104, Accracy: 0.7465999722480774\n",
      "Epoch 51, CIFAR-10 Batch 2:  Loss: 0.00045879915705882013, Accracy: 0.7411999702453613\n",
      "Epoch 51, CIFAR-10 Batch 3:  Loss: 0.00230584223754704, Accracy: 0.7382000088691711\n",
      "Epoch 51, CIFAR-10 Batch 4:  Loss: 0.0042692506685853004, Accracy: 0.7382000088691711\n",
      "Epoch 51, CIFAR-10 Batch 5:  Loss: 0.00011422255920479074, Accracy: 0.7418000102043152\n",
      "Epoch 52, CIFAR-10 Batch 1:  Loss: 0.0014918805100023746, Accracy: 0.722599983215332\n",
      "Epoch 52, CIFAR-10 Batch 2:  Loss: 0.00419760774821043, Accracy: 0.7390000224113464\n",
      "Epoch 52, CIFAR-10 Batch 3:  Loss: 0.005866306833922863, Accracy: 0.7333999872207642\n",
      "Epoch 52, CIFAR-10 Batch 4:  Loss: 0.0007777406135573983, Accracy: 0.7242000102996826\n",
      "Epoch 52, CIFAR-10 Batch 5:  Loss: 0.00010458384349476546, Accracy: 0.7411999702453613\n",
      "Epoch 53, CIFAR-10 Batch 1:  Loss: 0.0003600888012442738, Accracy: 0.7214000225067139\n",
      "Epoch 53, CIFAR-10 Batch 2:  Loss: 0.001069369725883007, Accracy: 0.7315999865531921\n",
      "Epoch 53, CIFAR-10 Batch 3:  Loss: 0.0006828046170994639, Accracy: 0.7422000169754028\n",
      "Epoch 53, CIFAR-10 Batch 4:  Loss: 0.003301947610452771, Accracy: 0.7372000217437744\n",
      "Epoch 53, CIFAR-10 Batch 5:  Loss: 0.006841056048870087, Accracy: 0.7382000088691711\n",
      "Epoch 54, CIFAR-10 Batch 1:  Loss: 0.0011962978169322014, Accracy: 0.7342000007629395\n",
      "Epoch 54, CIFAR-10 Batch 2:  Loss: 0.0004058582126162946, Accracy: 0.7315999865531921\n",
      "Epoch 54, CIFAR-10 Batch 3:  Loss: 0.002941008424386382, Accracy: 0.7361999750137329\n",
      "Epoch 54, CIFAR-10 Batch 4:  Loss: 0.001000674208626151, Accracy: 0.7401999831199646\n",
      "Epoch 54, CIFAR-10 Batch 5:  Loss: 0.004401645623147488, Accracy: 0.7246000170707703\n",
      "Epoch 55, CIFAR-10 Batch 1:  Loss: 0.0005309692351147532, Accracy: 0.7342000007629395\n",
      "Epoch 55, CIFAR-10 Batch 2:  Loss: 0.0009710388258099556, Accracy: 0.7324000000953674\n",
      "Epoch 55, CIFAR-10 Batch 3:  Loss: 0.001981661655008793, Accracy: 0.7419999837875366\n",
      "Epoch 55, CIFAR-10 Batch 4:  Loss: 0.0003483338514342904, Accracy: 0.739799976348877\n",
      "Epoch 55, CIFAR-10 Batch 5:  Loss: 0.0002455668873153627, Accracy: 0.7365999817848206\n",
      "Epoch 56, CIFAR-10 Batch 1:  Loss: 0.001967270392924547, Accracy: 0.7459999918937683\n",
      "Epoch 56, CIFAR-10 Batch 2:  Loss: 8.347700349986553e-05, Accracy: 0.7447999715805054\n",
      "Epoch 56, CIFAR-10 Batch 3:  Loss: 0.00046959443716332316, Accracy: 0.7490000128746033\n",
      "Epoch 56, CIFAR-10 Batch 4:  Loss: 0.005540317855775356, Accracy: 0.7337999939918518\n",
      "Epoch 56, CIFAR-10 Batch 5:  Loss: 0.0022073104046285152, Accracy: 0.7224000096321106\n",
      "Epoch 57, CIFAR-10 Batch 1:  Loss: 0.0009802780114114285, Accracy: 0.7324000000953674\n",
      "Epoch 57, CIFAR-10 Batch 2:  Loss: 0.0001307213242398575, Accracy: 0.73580002784729\n",
      "Epoch 57, CIFAR-10 Batch 3:  Loss: 0.0028544620145112276, Accracy: 0.7426000237464905\n",
      "Epoch 57, CIFAR-10 Batch 4:  Loss: 0.000485544151160866, Accracy: 0.7279999852180481\n",
      "Epoch 57, CIFAR-10 Batch 5:  Loss: 0.0002474149805493653, Accracy: 0.7378000020980835\n",
      "Epoch 58, CIFAR-10 Batch 1:  Loss: 4.164869096712209e-05, Accracy: 0.7342000007629395\n",
      "Epoch 58, CIFAR-10 Batch 2:  Loss: 0.0004381178878247738, Accracy: 0.7283999919891357\n",
      "Epoch 58, CIFAR-10 Batch 3:  Loss: 0.000295194739010185, Accracy: 0.7476000189781189\n",
      "Epoch 58, CIFAR-10 Batch 4:  Loss: 0.00020740115724038333, Accracy: 0.7419999837875366\n",
      "Epoch 58, CIFAR-10 Batch 5:  Loss: 0.0002895176294259727, Accracy: 0.7408000230789185\n",
      "Epoch 59, CIFAR-10 Batch 1:  Loss: 0.00044832626008428633, Accracy: 0.7142000198364258\n"
     ]
    },
    {
     "name": "stdout",
     "output_type": "stream",
     "text": [
      "Epoch 59, CIFAR-10 Batch 2:  Loss: 0.0003260287339799106, Accracy: 0.7360000014305115\n",
      "Epoch 59, CIFAR-10 Batch 3:  Loss: 0.00041930057341232896, Accracy: 0.7400000095367432\n",
      "Epoch 59, CIFAR-10 Batch 4:  Loss: 0.0008091827039606869, Accracy: 0.7390000224113464\n",
      "Epoch 59, CIFAR-10 Batch 5:  Loss: 9.72783745964989e-05, Accracy: 0.7319999933242798\n",
      "Epoch 60, CIFAR-10 Batch 1:  Loss: 8.122520375763997e-05, Accracy: 0.7196000218391418\n",
      "Epoch 60, CIFAR-10 Batch 2:  Loss: 0.0003117998712696135, Accracy: 0.7354000210762024\n",
      "Epoch 60, CIFAR-10 Batch 3:  Loss: 0.0005843580584041774, Accracy: 0.7436000108718872\n",
      "Epoch 60, CIFAR-10 Batch 4:  Loss: 0.0012013961095362902, Accracy: 0.7315999865531921\n",
      "Epoch 60, CIFAR-10 Batch 5:  Loss: 0.0002116185351042077, Accracy: 0.7364000082015991\n"
     ]
    }
   ],
   "source": [
    "\"\"\"\n",
    "DON'T MODIFY ANYTHING IN THIS CELL\n",
    "\"\"\"\n",
    "save_model_path = './image_classification'\n",
    "\n",
    "print('Training...')\n",
    "with tf.Session() as sess:\n",
    "    # Initializing the variables\n",
    "    sess.run(tf.global_variables_initializer())\n",
    "    \n",
    "    # Training cycle\n",
    "    for epoch in range(epochs):\n",
    "        # Loop over all batches\n",
    "        n_batches = 5\n",
    "        for batch_i in range(1, n_batches + 1):\n",
    "            for batch_features, batch_labels in helper.load_preprocess_training_batch(batch_i, batch_size):\n",
    "                train_neural_network(sess, optimizer, keep_probability, batch_features, batch_labels)\n",
    "            print('Epoch {:>2}, CIFAR-10 Batch {}:  '.format(epoch + 1, batch_i), end='')\n",
    "            print_stats(sess, batch_features, batch_labels, cost, accuracy)\n",
    "            \n",
    "    # Save Model\n",
    "    saver = tf.train.Saver()\n",
    "    save_path = saver.save(sess, save_model_path)"
   ]
  },
  {
   "cell_type": "markdown",
   "metadata": {},
   "source": [
    "# Checkpoint\n",
    "The model has been saved to disk.\n",
    "## Test Model\n",
    "Test your model against the test dataset.  This will be your final accuracy. You should have an accuracy greater than 50%. If you don't, keep tweaking the model architecture and parameters."
   ]
  },
  {
   "cell_type": "code",
   "execution_count": 43,
   "metadata": {},
   "outputs": [
    {
     "name": "stdout",
     "output_type": "stream",
     "text": [
      "INFO:tensorflow:Restoring parameters from ./image_classification\n",
      "Testing Accuracy: 0.7332871835443038\n",
      "\n"
     ]
    },
    {
     "data": {
      "image/png": "[encoded data removed]",
      "text/plain": [
       "<matplotlib.figure.Figure at 0x7fd18a681128>"
      ]
     },
     "metadata": {
      "image/png": {
       "height": 319,
       "width": 355
      }
     },
     "output_type": "display_data"
    }
   ],
   "source": [
    "\"\"\"\n",
    "DON'T MODIFY ANYTHING IN THIS CELL\n",
    "\"\"\"\n",
    "%matplotlib inline\n",
    "%config InlineBackend.figure_format = 'retina'\n",
    "\n",
    "import tensorflow as tf\n",
    "import pickle\n",
    "import helper\n",
    "import random\n",
    "\n",
    "# Set batch size if not already set\n",
    "try:\n",
    "    if batch_size:\n",
    "        pass\n",
    "except NameError:\n",
    "    batch_size = 64\n",
    "\n",
    "save_model_path = './image_classification'\n",
    "n_samples = 4\n",
    "top_n_predictions = 3\n",
    "\n",
    "def test_model():\n",
    "    \"\"\"\n",
    "    Test the saved model against the test dataset\n",
    "    \"\"\"\n",
    "\n",
    "    test_features, test_labels = pickle.load(open('preprocess_test.p', mode='rb'))\n",
    "    loaded_graph = tf.Graph()\n",
    "\n",
    "    with tf.Session(graph=loaded_graph) as sess:\n",
    "        # Load model\n",
    "        loader = tf.train.import_meta_graph(save_model_path + '.meta')\n",
    "        loader.restore(sess, save_model_path)\n",
    "\n",
    "        # Get Tensors from loaded model\n",
    "        loaded_x = loaded_graph.get_tensor_by_name('x:0')\n",
    "        loaded_y = loaded_graph.get_tensor_by_name('y:0')\n",
    "        loaded_keep_prob = loaded_graph.get_tensor_by_name('keep_prob:0')\n",
    "        loaded_logits = loaded_graph.get_tensor_by_name('logits:0')\n",
    "        loaded_acc = loaded_graph.get_tensor_by_name('accuracy:0')\n",
    "        \n",
    "        # Get accuracy in batches for memory limitations\n",
    "        test_batch_acc_total = 0\n",
    "        test_batch_count = 0\n",
    "        \n",
    "        for test_feature_batch, test_label_batch in helper.batch_features_labels(test_features, test_labels, batch_size):\n",
    "            test_batch_acc_total += sess.run(\n",
    "                loaded_acc,\n",
    "                feed_dict={loaded_x: test_feature_batch, loaded_y: test_label_batch, loaded_keep_prob: 1.0})\n",
    "            test_batch_count += 1\n",
    "\n",
    "        print('Testing Accuracy: {}\\n'.format(test_batch_acc_total/test_batch_count))\n",
    "\n",
    "        # Print Random Samples\n",
    "        random_test_features, random_test_labels = tuple(zip(*random.sample(list(zip(test_features, test_labels)), n_samples)))\n",
    "        random_test_predictions = sess.run(\n",
    "            tf.nn.top_k(tf.nn.softmax(loaded_logits), top_n_predictions),\n",
    "            feed_dict={loaded_x: random_test_features, loaded_y: random_test_labels, loaded_keep_prob: 1.0})\n",
    "        helper.display_image_predictions(random_test_features, random_test_labels, random_test_predictions)\n",
    "\n",
    "\n",
    "test_model()"
   ]
  },
  {
   "cell_type": "markdown",
   "metadata": {},
   "source": [
    "## Why 50-80% Accuracy?\n",
    "You might be wondering why you can't get an accuracy any higher. First things first, 50% isn't bad for a simple CNN.  Pure guessing would get you 10% accuracy. However, you might notice people are getting scores [well above 80%](http://rodrigob.github.io/are_we_there_yet/build/classification_datasets_results.html#43494641522d3130).  That's because we haven't taught you all there is to know about neural networks. We still need to cover a few more techniques.\n",
    "## Submitting This Project\n",
    "When submitting this project, make sure to run all the cells before saving the notebook.  Save the notebook file as \"dlnd_image_classification.ipynb\" and save it as a HTML file under \"File\" -> \"Download as\".  Include the \"helper.py\" and \"problem_unittests.py\" files in your submission."
   ]
  }
 ],
 "metadata": {
  "kernelspec": {
   "display_name": "Python 3",
   "language": "python",
   "name": "python3"
  },
  "language_info": {
   "codemirror_mode": {
    "name": "ipython",
    "version": 3
   },
   "file_extension": ".py",
   "mimetype": "text/x-python",
   "name": "python",
   "nbconvert_exporter": "python",
   "pygments_lexer": "ipython3",
   "version": "3.5.3"
  }
 },
 "nbformat": 4,
 "nbformat_minor": 1
}
